{
 "cells": [
  {
   "cell_type": "code",
   "execution_count": 1,
   "metadata": {},
   "outputs": [],
   "source": [
    "import torch"
   ]
  },
  {
   "cell_type": "code",
   "execution_count": 2,
   "metadata": {},
   "outputs": [
    {
     "data": {
      "text/plain": [
       "tensor([[0.8529, 0.9410, 0.2375, 0.3989, 0.2334],\n",
       "        [0.7093, 0.9079, 0.1428, 0.2868, 0.1562],\n",
       "        [0.0689, 0.3406, 0.6339, 0.8230, 0.1612]])"
      ]
     },
     "execution_count": 2,
     "metadata": {},
     "output_type": "execute_result"
    }
   ],
   "source": [
    "torch.rand(3,5)"
   ]
  }
 ],
 "metadata": {
  "interpreter": {
   "hash": "1bef641ee2b99dd4e1e56ac47852d0ba29fb20988eed7040973320394f87b8a9"
  },
  "kernelspec": {
   "display_name": "Python 3.9.10 ('.vn': venv)",
   "language": "python",
   "name": "python3"
  },
  "language_info": {
   "codemirror_mode": {
    "name": "ipython",
    "version": 3
   },
   "file_extension": ".py",
   "mimetype": "text/x-python",
   "name": "python",
   "nbconvert_exporter": "python",
   "pygments_lexer": "ipython3",
   "version": "3.9.10"
  },
  "orig_nbformat": 4
 },
 "nbformat": 4,
 "nbformat_minor": 2
}
